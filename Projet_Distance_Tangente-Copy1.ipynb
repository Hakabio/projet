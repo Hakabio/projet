{
 "cells": [
  {
   "cell_type": "code",
   "execution_count": 1,
   "metadata": {},
   "outputs": [],
   "source": [
    "import numpy as np\n",
    "import scipy.io\n",
    "import matplotlib.pyplot as plt\n",
    "from matplotlib.image import imread\n",
    "import time\n",
    "from scipy.ndimage.filters import convolve,gaussian_filter\n",
    "from sklearn.model_selection import train_test_split\n",
    "import numpy as np\n",
    "import random\n",
    "import winsound"
   ]
  },
  {
   "cell_type": "code",
   "execution_count": 2,
   "metadata": {},
   "outputs": [],
   "source": [
    "mat = scipy.io.loadmat('mnist-original.mat') # lecture du fichier"
   ]
  },
  {
   "cell_type": "code",
   "execution_count": 3,
   "metadata": {},
   "outputs": [],
   "source": [
    "data = np.transpose(mat['data'])\n",
    "label = np.transpose(mat['label'])"
   ]
  },
  {
   "cell_type": "code",
   "execution_count": 4,
   "metadata": {},
   "outputs": [],
   "source": [
    "X = [] # on créé une nouvelle liste qui va contenir nos matrices \n",
    "for i in range(len(data)):\n",
    "    X.append(gaussian_filter((255-data[i]).reshape(28,28),sigma=1)) # pour avoir des matrices lisses"
   ]
  },
  {
   "cell_type": "code",
   "execution_count": 71,
   "metadata": {},
   "outputs": [],
   "source": [
    "def index_chiffre(n, y):  # elle nous renvoie un tableau contenant les indices représentants le chiffre n\n",
    "    index = []           # j'ai rajouté le y dans les arguments car je me servirai de cette fonction dans la suite\n",
    "    for i in range(len(y)):\n",
    "        if y[i]==n:\n",
    "            index.append(i)\n",
    "    return index"
   ]
  },
  {
   "cell_type": "code",
   "execution_count": 44,
   "metadata": {},
   "outputs": [],
   "source": [
    "def deriv_x(X): # dérivée par rapport à x en appliquant un filtre de Sobel\n",
    "    P = X.reshape(28,28)\n",
    "    temp = np.gradient(P)[0]\n",
    "    return temp\n",
    "\n",
    "\n",
    "def deriv_y(X): # derivée par rapport à y\n",
    "    P = X.reshape(28,28)\n",
    "    temp = np.gradient(P)[1]\n",
    "    return temp"
   ]
  },
  {
   "cell_type": "code",
   "execution_count": 55,
   "metadata": {},
   "outputs": [],
   "source": [
    "# pour la rotation\n",
    "def deriv_rot(derX, derY):\n",
    "    p = np.zeros((28,28))\n",
    "    for i in range(28):\n",
    "        for j in range(28):\n",
    "            p[i][j] = j*derX[i][j]-i*derY[i][j]\n",
    "    return p"
   ]
  },
  {
   "cell_type": "code",
   "execution_count": 56,
   "metadata": {},
   "outputs": [],
   "source": [
    "# pour rendre le dessin plus gras\n",
    "def thickening(derX, derY):\n",
    "    p = np.zeros((28,28))\n",
    "    for i in range(28):\n",
    "        for j in range(28):\n",
    "            p[i][j] = derX[i][j]**2 + derY[i][j]**2\n",
    "    return p"
   ]
  },
  {
   "cell_type": "code",
   "execution_count": 57,
   "metadata": {},
   "outputs": [],
   "source": [
    "# scaling\n",
    "def scaling(derX, derY):\n",
    "    p = np.zeros((28,28))\n",
    "    for i in range(28):\n",
    "        for j in range(28):\n",
    "            p[i][j] = i*derX[i][j]+j*derY[i][j]\n",
    "    return p"
   ]
  },
  {
   "cell_type": "code",
   "execution_count": 58,
   "metadata": {},
   "outputs": [],
   "source": [
    "# transformation parallèle hyperbolique\n",
    "def par_hyper(derX, derY):\n",
    "    p = np.zeros((28,28))\n",
    "    for i in range(28):\n",
    "        for j in range(28):\n",
    "            p[i][j] = i*derX[i][j]-j*derY[i][j]\n",
    "    return p"
   ]
  },
  {
   "cell_type": "code",
   "execution_count": 59,
   "metadata": {},
   "outputs": [],
   "source": [
    "# transformation diagonale hyperbolique\n",
    "def diag_hyper(derX, derY):\n",
    "    p = np.zeros((28,28))\n",
    "    for i in range(28):\n",
    "        for j in range(28):\n",
    "            p[i][j] = j*derX[i][j]+i*derY[i][j]\n",
    "    return p"
   ]
  },
  {
   "cell_type": "code",
   "execution_count": 60,
   "metadata": {},
   "outputs": [],
   "source": [
    "def tangent_matrix(derX, derY):\n",
    "    p = np.zeros((784,7))\n",
    "    p[:,0] = derX.reshape(784,)\n",
    "    p[:,1] = derY.reshape(784,)\n",
    "    p[:,2] = deriv_rot(derX, derY).reshape(784,)\n",
    "    p[:,3] = thickening(derX, derY).reshape(784,)\n",
    "    p[:,4] = scaling(derX, derY).reshape(784,)\n",
    "    p[:,5] = par_hyper(derX, derY).reshape(784,)\n",
    "    p[:,6] = diag_hyper(derX, derY).reshape(784,)\n",
    "    return p"
   ]
  },
  {
   "cell_type": "code",
   "execution_count": 61,
   "metadata": {},
   "outputs": [],
   "source": [
    "X_train, X_test, y_train, y_test = train_test_split(X, label, test_size=0.2)"
   ]
  },
  {
   "cell_type": "code",
   "execution_count": 62,
   "metadata": {},
   "outputs": [
    {
     "name": "stdout",
     "output_type": "stream",
     "text": [
      "218.61397314071655\n"
     ]
    }
   ],
   "source": [
    "# on va maintenant calculer la matrice tangente de chaque élément de X_train\n",
    "start = time.time()\n",
    "mat_tangent = np.zeros(len(X_train), dtype=object)\n",
    "for i in range(len(X_train)):\n",
    "    derX = deriv_x(X_train[i])\n",
    "    derY = deriv_y(X_train[i])\n",
    "    mat_tangent[i] = tangent_matrix(derX, derY)\n",
    "print(time.time()-start)"
   ]
  },
  {
   "cell_type": "code",
   "execution_count": 63,
   "metadata": {},
   "outputs": [],
   "source": [
    "temp = random.sample(range(14000),100)"
   ]
  },
  {
   "cell_type": "code",
   "execution_count": 211,
   "metadata": {},
   "outputs": [
    {
     "name": "stdout",
     "output_type": "stream",
     "text": [
      "418.1969618797302\n",
      "0.81\n"
     ]
    }
   ],
   "source": [
    "# on va faire un test sur 100 éléments en calculant la distance entre les matrices tangentes seulement\n",
    "start = time.time()\n",
    "p = 0\n",
    "for i in temp:\n",
    "    matTest = X_test[i]\n",
    "    derTX = deriv_x(matTest)\n",
    "    derTY = deriv_y(matTest)\n",
    "    tang_test = tangent_matrix(derTX, derTY)\n",
    "    dist = [0 for k in range(56000)]\n",
    "    for j in range(56000):\n",
    "        dist[j]=np.linalg.norm(tang_test - mat_tangent[j], ord=2)\n",
    "    pred = np.argmin(np.array(dist)) # l'indice de la matrice de X_train la plus proche\n",
    "    if y_test[i] == y_train[pred]:\n",
    "        p+=1\n",
    "print(time.time()-start)\n",
    "print(p/100)"
   ]
  },
  {
   "cell_type": "markdown",
   "metadata": {},
   "source": [
    "##### Dans les prochaines lignes on va implémenter une méthode pour calculer la transformation de Householder (pour obtenir Q1 et Q2)"
   ]
  },
  {
   "cell_type": "code",
   "execution_count": 64,
   "metadata": {},
   "outputs": [],
   "source": [
    "def householder(A): # comme on veut aller jusqu'à Q2 on va le faire manuellement\n",
    "    n = A.shape[0] # nombre de lignes de A\n",
    "    I = np.eye(n)\n",
    "    x = A[:,0].reshape(n,1)\n",
    "    a = -np.sign(x[0])*np.linalg.norm(x, ord=2)\n",
    "    u = x + a*I[:,0].reshape(n,1)\n",
    "    v = u/np.linalg.norm(u, ord=2)\n",
    "    Q1 = I - 2*(v@np.transpose(v)) \n",
    "    temp = Q1@A\n",
    "    \n",
    "    A_prime = temp[1:,1:] # on refait les mêmes étapes pour A_prime qui est une matrice dont le nombre de lignes = n-1\n",
    "    I = np.eye(n-1)\n",
    "    x = A_prime[:,0].reshape(n-1,1)\n",
    "    a = -np.sign(x[0])*np.linalg.norm(x, ord=2)\n",
    "    u = x + a*I[:,0].reshape(n-1,1)\n",
    "    v = u/np.linalg.norm(u, ord=2)\n",
    "    Q2_prime = I - 2*(v@np.transpose(v))\n",
    "    Q2 = np.zeros((n,n))\n",
    "    Q2[0][0] = 1\n",
    "    Q2[1:,1:] = Q2_prime\n",
    "    \n",
    "    return (Q1, Q2)"
   ]
  },
  {
   "cell_type": "code",
   "execution_count": 65,
   "metadata": {},
   "outputs": [],
   "source": [
    "def dist_tang_all(M): # elle calcule la distance tangente entre M et toutes les matrices d'entraînement\n",
    "    derxM = deriv_x(M)\n",
    "    deryM = deriv_y(M)\n",
    "    Tm = tangent_matrix(derxM, deryM)\n",
    "    dist = np.zeros((len(mat_tangent)))\n",
    "    for i in range(len(mat_tangent)):\n",
    "        A = np.concatenate((-Tm, mat_tangent[i]),axis=1) # mat_tangent[i] représente la matrice tangente de X_train[i]\n",
    "        b = (M - X_train[i]).reshape(784,1) # car ils sont dans leurs formes matricielles et on veut que b soit un vecteur\n",
    "        Q2 = householder(A)[1]\n",
    "        dist[i] = np.linalg.norm(np.transpose(Q2)@b, ord=2)**2\n",
    "    return dist"
   ]
  },
  {
   "cell_type": "markdown",
   "metadata": {},
   "source": [
    "##### La prochaine ligne ne doit pas être executée, elle prend BEAUCOUP de temps"
   ]
  },
  {
   "cell_type": "code",
   "execution_count": null,
   "metadata": {},
   "outputs": [],
   "source": [
    "# on va faire un test sur 100 éléments avec la distance tangente\n",
    "temp = random.sample(range(14000),100)\n",
    "start = time.time()\n",
    "p = 0\n",
    "for i in temp:\n",
    "    matTest = X_test[i]\n",
    "    pred = np.argmin(dist_tang_all(matTest)) # l'indice de la matrice de X_train la plus proche\n",
    "    if y_test[i] == y_train[pred]:\n",
    "        p+=1\n",
    "print(time.time()-start)\n",
    "print(p/100)"
   ]
  },
  {
   "cell_type": "code",
   "execution_count": 66,
   "metadata": {},
   "outputs": [
    {
     "name": "stdout",
     "output_type": "stream",
     "text": [
      "56.87481737136841\n"
     ]
    }
   ],
   "source": [
    "# on va maintenant calculer la matrice tangente de chaque élément de X_test\n",
    "start = time.time()\n",
    "mat_tangent_test = np.zeros(len(X_test), dtype=object)\n",
    "for i in range(len(X_test)):\n",
    "    derX = deriv_x(X_test[i])\n",
    "    derY = deriv_y(X_test[i])\n",
    "    mat_tangent_test[i] = tangent_matrix(derX, derY)\n",
    "print(time.time()-start)"
   ]
  },
  {
   "cell_type": "markdown",
   "metadata": {},
   "source": [
    "##### Comme comparé chaque X_test à tous les X_train prend du temps, on va utilisé une décomposition SVD pour représenter les X_train"
   ]
  },
  {
   "cell_type": "code",
   "execution_count": 31,
   "metadata": {},
   "outputs": [],
   "source": [
    "mat_svd = np.load('mat_svd.npy', allow_pickle=True)"
   ]
  },
  {
   "cell_type": "code",
   "execution_count": 32,
   "metadata": {},
   "outputs": [],
   "source": [
    "# dans la méthode SVD on avait vu que le rang qui a une précision moyenne optimale est le rang 15\n",
    "mat_svd_tronc = np.zeros(10, dtype=object)\n",
    "for i in range(10):\n",
    "    U = mat_svd[0][i].reshape(784,784)\n",
    "    S = mat_svd[1][i].reshape(28,28)\n",
    "    V = mat_svd[2][i].reshape(784,int(mat_svd[2][i].shape[0]/784))\n",
    "    temp = U[:,:15]@S[:15,:15]@V[:15,:]\n",
    "    mat_svd_tronc[i] = normalize(temp[:,10].reshape(28,28))"
   ]
  },
  {
   "cell_type": "code",
   "execution_count": 33,
   "metadata": {},
   "outputs": [
    {
     "data": {
      "image/png": "[encoded data removed]",
      "text/plain": [
       "<Figure size 3600x3600 with 10 Axes>"
      ]
     },
     "metadata": {
      "needs_background": "light"
     },
     "output_type": "display_data"
    }
   ],
   "source": [
    "fig, ax = plt.subplots(1,10,figsize=(50,50))\n",
    "for i in range(10):\n",
    "    ax[i].imshow(mat_svd_tronc[i].reshape(28,28),cmap='gray')\n",
    "    ax[i].axis('off')"
   ]
  },
  {
   "cell_type": "code",
   "execution_count": 34,
   "metadata": {},
   "outputs": [
    {
     "name": "stdout",
     "output_type": "stream",
     "text": [
      "0.04493069648742676\n"
     ]
    }
   ],
   "source": [
    "# on va calculer les matrices tangentes\n",
    "start = time.time()\n",
    "mat_tang_svd = np.zeros(10,dtype=object)\n",
    "for i in range(10):\n",
    "    derx = deriv_x(mat_svd_tronc[i])\n",
    "    dery = deriv_y(mat_svd_tronc[i])\n",
    "    mat_tang_svd[i] = tangent_matrix(derx, dery)\n",
    "print(time.time()-start) "
   ]
  },
  {
   "cell_type": "code",
   "execution_count": 35,
   "metadata": {},
   "outputs": [],
   "source": [
    "# comme on peut le voir on a drastiquement diminué le temps de calcul des matrices tangentes"
   ]
  },
  {
   "cell_type": "code",
   "execution_count": 36,
   "metadata": {},
   "outputs": [],
   "source": [
    "def dist_tang_svd(M): # la distance tangente entre une matrice X_test et les 10 matrices tangentes qu'on a créé dernièrement\n",
    "    derxM = deriv_x(M)\n",
    "    deryM = deriv_y(M)\n",
    "    Tm = tangent_matrix(derxM, deryM)\n",
    "    dist = np.zeros(10)\n",
    "    for i in range(10):\n",
    "        A = np.concatenate((-Tm, mat_tang_svd[i]),axis=1)\n",
    "        b = (M - mat_svd_tronc[i]).reshape(784,1)\n",
    "        Q2 = householder(A)[1]\n",
    "        dist[i] = np.linalg.norm(np.transpose(Q2)@b,ord=2)\n",
    "    return dist"
   ]
  },
  {
   "cell_type": "code",
   "execution_count": 37,
   "metadata": {},
   "outputs": [
    {
     "name": "stdout",
     "output_type": "stream",
     "text": [
      "16.2405903339386\n",
      "0.15\n"
     ]
    }
   ],
   "source": [
    "# On va tester sur 100 éléments de X_test\n",
    "temp = random.sample(range(14000),100)\n",
    "start = time.time()\n",
    "p = 0\n",
    "for i in temp:\n",
    "    matTest = X_test[i]\n",
    "    pred = np.argmin(dist_tang_svd(matTest)) # l'indice de la matrice de X_train la plus proche\n",
    "    if y_test[i] == y_train[pred]:\n",
    "        p+=1\n",
    "print(time.time()-start)\n",
    "print(p/100)\n",
    "    "
   ]
  },
  {
   "cell_type": "code",
   "execution_count": 69,
   "metadata": {},
   "outputs": [],
   "source": [
    "def image_moyenne(n, X, y): # cette fonction renvoie la matrice moyenne (centroïde) pour le chiffre n\n",
    "    index = index_chiffre(n, y) # de même je rajoute l'argument X et y car je m'en servirai dans la suite\n",
    "    sum_matrice = np.zeros((28,28)) # la matrice qui sera utilisée dans la somme\n",
    "    for i in index:\n",
    "        sum_matrice += X[i] # on somme toutes les matrices représentants le chiffre n\n",
    "    return sum_matrice/len(index)"
   ]
  },
  {
   "cell_type": "code",
   "execution_count": 72,
   "metadata": {},
   "outputs": [],
   "source": [
    "# en utilisant les centroïdes classiques \n",
    "centroide_train = []\n",
    "for i in range(10): # on calcul le centroïde pour chaque chiffre i entre 0 et 9 avec X_train et y_train\n",
    "    centroide_train.append(image_moyenne(i, X_train, y_train)) "
   ]
  },
  {
   "cell_type": "code",
   "execution_count": 73,
   "metadata": {},
   "outputs": [
    {
     "name": "stdout",
     "output_type": "stream",
     "text": [
      "0.055359840393066406\n"
     ]
    }
   ],
   "source": [
    "# calcul des matrices tangentes de chacun des chiffres\n",
    "start = time.time()\n",
    "mat_tang_centr = np.zeros(10, dtype=object)\n",
    "for i in range(10):\n",
    "    derx = deriv_x(centroide_train[i])\n",
    "    dery = deriv_y(centroide_train[i])\n",
    "    mat_tang_centr[i] = tangent_matrix(derx, dery)\n",
    "print(time.time()-start) "
   ]
  },
  {
   "cell_type": "code",
   "execution_count": 74,
   "metadata": {},
   "outputs": [],
   "source": [
    "def dist_tang_centr(M): # la distance tangente entre une matrice X_test et les 10 matrices tangentes qu'on a créé dernièrement\n",
    "    derxM = deriv_x(M)\n",
    "    deryM = deriv_y(M)\n",
    "    Tm = tangent_matrix(derxM, deryM)\n",
    "    dist = np.zeros(10)\n",
    "    for i in range(10):\n",
    "        A = np.concatenate((-Tm, mat_tang_centr[i]),axis=1)\n",
    "        b = (M - centroide_train[i]).reshape(784,1)\n",
    "        Q2 = householder(A)[1]\n",
    "        dist[i] = np.linalg.norm(np.transpose(Q2)@b,ord=2)\n",
    "    return dist"
   ]
  },
  {
   "cell_type": "code",
   "execution_count": 76,
   "metadata": {},
   "outputs": [
    {
     "name": "stdout",
     "output_type": "stream",
     "text": [
      "18.77232336997986\n",
      "0.02\n"
     ]
    }
   ],
   "source": [
    "# On va tester sur 100 éléments de X_test\n",
    "temp = random.sample(range(14000),100)\n",
    "start = time.time()\n",
    "p = 0\n",
    "for i in temp:\n",
    "    matTest = X_test[i]\n",
    "    pred = np.argmin(dist_tang_centr(matTest)) # l'indice de la matrice de X_train la plus proche\n",
    "    if y_test[i] == y_train[pred]:\n",
    "        p+=1\n",
    "print(time.time()-start)\n",
    "print(p/100)\n",
    "    "
   ]
  },
  {
   "cell_type": "code",
   "execution_count": null,
   "metadata": {},
   "outputs": [],
   "source": [
    "# j'ai essayé avec des données que j'ai moi même créé"
   ]
  },
  {
   "cell_type": "code",
   "execution_count": 77,
   "metadata": {},
   "outputs": [],
   "source": [
    "temp = [imread(f'/Users/Nazim/Desktop/Etude/Sorbonne/S6/Projet/chiffres/{i}.png') for i in range(10)]"
   ]
  },
  {
   "cell_type": "code",
   "execution_count": 78,
   "metadata": {},
   "outputs": [],
   "source": [
    "temp = [temp[i][:,:,0] for i in range(10)]"
   ]
  },
  {
   "cell_type": "code",
   "execution_count": 79,
   "metadata": {},
   "outputs": [
    {
     "name": "stdout",
     "output_type": "stream",
     "text": [
      "0.17656159400939941\n"
     ]
    }
   ],
   "source": [
    "# calcul des matrices tangentes de chacun des chiffres\n",
    "start = time.time()\n",
    "mat_tang_centr = np.zeros(10, dtype=object)\n",
    "for i in range(10):\n",
    "    derx = deriv_x(temp[i])\n",
    "    dery = deriv_y(temp[i])\n",
    "    mat_tang_centr[i] = tangent_matrix(derx, dery)\n",
    "print(time.time()-start) "
   ]
  },
  {
   "cell_type": "code",
   "execution_count": 80,
   "metadata": {},
   "outputs": [],
   "source": [
    "def dist_tang_centr_dess(M): # la distance tangente entre une matrice X_test et les 10 matrices tangentes qu'on a créé dernièrement\n",
    "    derxM = deriv_x(M)\n",
    "    deryM = deriv_y(M)\n",
    "    Tm = tangent_matrix(derxM, deryM)\n",
    "    dist = np.zeros(10)\n",
    "    for i in range(10):\n",
    "        A = np.concatenate((-Tm, mat_tang_centr[i]),axis=1)\n",
    "        b = (M - temp[i]).reshape(784,1)\n",
    "        Q2 = householder(A)[1]\n",
    "        dist[i] = np.linalg.norm(np.transpose(Q2)@b,ord=2)**2\n",
    "    return dist"
   ]
  },
  {
   "cell_type": "code",
   "execution_count": 81,
   "metadata": {},
   "outputs": [
    {
     "name": "stdout",
     "output_type": "stream",
     "text": [
      "21.196595907211304\n",
      "0.07\n"
     ]
    }
   ],
   "source": [
    "# On va tester sur 100 éléments de X_test\n",
    "temp = random.sample(range(14000),100)\n",
    "start = time.time()\n",
    "p = 0\n",
    "for i in temp:\n",
    "    matTest = X_test[i]\n",
    "    pred = np.argmin(dist_tang_centr_dess(matTest)) # l'indice de la matrice de X_train la plus proche\n",
    "    if y_test[i] == y_train[pred]:\n",
    "        p+=1\n",
    "print(time.time()-start)\n",
    "print(p/100)\n",
    "    "
   ]
  },
  {
   "cell_type": "code",
   "execution_count": null,
   "metadata": {},
   "outputs": [],
   "source": []
  }
 ],
 "metadata": {
  "kernelspec": {
   "display_name": "Python 3",
   "language": "python",
   "name": "python3"
  },
  "language_info": {
   "codemirror_mode": {
    "name": "ipython",
    "version": 3
   },
   "file_extension": ".py",
   "mimetype": "text/x-python",
   "name": "python",
   "nbconvert_exporter": "python",
   "pygments_lexer": "ipython3",
   "version": "3.7.7"
  }
 },
 "nbformat": 4,
 "nbformat_minor": 4
}
