{
 "cells": [
  {
   "cell_type": "code",
   "execution_count": 9,
   "metadata": {},
   "outputs": [],
   "source": [
    "import scipy.io\n",
    "import matplotlib.pyplot as plt\n",
    "import numpy as np\n",
    "import pandas as pd\n",
    "from sklearn.model_selection import train_test_split\n",
    "from sklearn.metrics import confusion_matrix\n",
    "import itertools\n",
    "import random as rd\n",
    "from sklearn import neighbors\n",
    "import sklearn\n",
    "import time"
   ]
  },
  {
   "cell_type": "code",
   "execution_count": 18,
   "metadata": {},
   "outputs": [],
   "source": [
    "mat = scipy.io.loadmat('mnist-original.mat') \n",
    "data = np.transpose(mat['data'])\n",
    "label = np.transpose(mat['label'])\n",
    "X = [data[i].reshape(784,1) for i in range(len(data))] # on créé une nouvelle liste qui va contenir nos matrices 28x28\n",
    "\n",
    "k=10 # nombre de cluster utilisé\n",
    "m=70000 # nombre de données utilisées\n",
    "n=784  \n",
    "tol=10**(-1)"
   ]
  },
  {
   "cell_type": "code",
   "execution_count": 30,
   "metadata": {
    "scrolled": true
   },
   "outputs": [
    {
     "name": "stdout",
     "output_type": "stream",
     "text": [
      "[32847, 10150, 69056, 63423, 38976, 34899, 46214, 50567, 34113, 61591]\n",
      "7524\n"
     ]
    },
    {
     "data": {
      "image/png": "[encoded data removed]",
      "text/plain": [
       "<Figure size 1440x144 with 10 Axes>"
      ]
     },
     "metadata": {
      "needs_background": "light"
     },
     "output_type": "display_data"
    }
   ],
   "source": [
    "# on initialise les centroides aléatoirement et on associe les données correspondant \n",
    "clusters = {}\n",
    "for i in range(k):\n",
    "    clusters[i] = []\n",
    "index=[]    \n",
    "centroids= {}\n",
    "for i in range(k):\n",
    "    rand=rd.randint(0,m-1)\n",
    "    index.append(rand)\n",
    "    centroids[i] = X[rand]\n",
    "    \n",
    "fig, ax = plt.subplots(1,k,figsize=(20,2)) # affichage des centroïdes \n",
    "for i in range(k):\n",
    "    ax[i].imshow(centroids[i].reshape(28,28),cmap='gray')\n",
    "\n",
    "indice=[[] for i in range(k)]\n",
    "for i in range(m):\n",
    "    euc_dist = [np.linalg.norm(X[i] - centroids[j]) for j in range(k)]\n",
    "    minn=np.argmin(np.asarray(euc_dist))\n",
    "    clusters[minn].append(X[i])\n",
    "    indice[minn].append(i)\n",
    "print(index)\n",
    "print(len(indice[1]))"
   ]
  },
  {
   "cell_type": "code",
   "execution_count": 31,
   "metadata": {},
   "outputs": [],
   "source": [
    "def re_clusters(X, centroids, k):# fonction qui recalcule les clusters\n",
    "    clusters = {}\n",
    "    indice=[[] for i in range(k)]\n",
    "    for i in range(k):\n",
    "        clusters[i] = []\n",
    "    for i in range(m):\n",
    "        euc_dist = [np.linalg.norm(X[i] - centroids[j]) for j in range(k)]\n",
    "        clusters[np.argmin(np.asarray(euc_dist))].append(X[i])\n",
    "        indice[np.argmin(np.asarray(euc_dist))].append(i)\n",
    "    return [clusters,indice]\n",
    "\n",
    "def re_centroids(clusters, k):# fonction qui recalcule les centroids\n",
    "    centroids= {}\n",
    "    for i in range(k):\n",
    "        centroids[i] = np.mean(clusters[i], axis=0)\n",
    "        \n",
    "    return centroids\n",
    "\n",
    "def coherence(centroids_j, clusters_j):\n",
    "    temp=[np.linalg.norm(data - centroids_j)**2 for data in clusters_j ]\n",
    "    return sum(temp)\n",
    "\n",
    "def quality(centroids, clusters):\n",
    "    temp=[coherence(centroids[i],clusters[i]) for i in range(k)]\n",
    "    return sum(temp)\n"
   ]
  },
  {
   "cell_type": "code",
   "execution_count": 32,
   "metadata": {},
   "outputs": [],
   "source": [
    "clusters_nv=re_clusters(X, centroids, k)[0]\n",
    "centroids_nv=re_centroids(clusters, k)\n",
    "L=[]\n",
    "start=time.time()\n",
    "while abs(quality(centroids, clusters)-quality(centroids_nv, clusters_nv))>tol :\n",
    "    L.append(abs(quality(centroids, clusters)-quality(centroids_nv, clusters_nv)))\n",
    "    centroids=centroids_nv\n",
    "    clusters=clusters_nv\n",
    "    clusters_nv=re_clusters(X, centroids, k)[0]\n",
    "    centroids_nv=re_centroids(clusters_nv, k)\n",
    "end=time.time()"
   ]
  },
  {
   "cell_type": "code",
   "execution_count": 33,
   "metadata": {},
   "outputs": [
    {
     "name": "stdout",
     "output_type": "stream",
     "text": [
      "84\n",
      "Temps de réalisation : 766.4068281650543 secondes\n"
     ]
    },
    {
     "data": {
      "image/png": "[encoded data removed]",
      "text/plain": [
       "<Figure size 1440x144 with 10 Axes>"
      ]
     },
     "metadata": {
      "needs_background": "light"
     },
     "output_type": "display_data"
    }
   ],
   "source": [
    "L.append(abs(quality(centroids, clusters)-quality(centroids_nv, clusters_nv)))\n",
    "print(len(L))\n",
    "print(\"Temps de réalisation : \" + str(end-start) + \" secondes\")\n",
    "fig, ax = plt.subplots(1,k,figsize=(20,2)) # affichage des centroïdes \n",
    "for i in range(k):\n",
    "    ax[i].imshow(centroids[i].reshape(28,28),cmap='gray')"
   ]
  },
  {
   "cell_type": "code",
   "execution_count": 28,
   "metadata": {
    "scrolled": true
   },
   "outputs": [
    {
     "name": "stdout",
     "output_type": "stream",
     "text": [
      "[99464447950.78384, 17050286888.941437, 3916322820.8120117, 2711604589.8408203, 1500038917.8000488, 771433633.5432739, 478946848.2800293, 415820465.98760986, 416356834.1511841, 434577114.22958374, 434753880.79263306, 362866755.8334656, 254467120.93795776, 174819146.260437, 126728309.92529297, 102033402.57873535, 76202092.41107178, 56038314.403533936, 44134801.38650513, 35284725.78945923, 33895336.80932617, 30044349.11871338, 29645462.116760254, 27969700.639404297, 21861291.55178833, 13963452.976654053, 8736712.998138428, 5067492.990905762, 3212504.0981445312, 1232940.6268615723, 407800.15994262695, 186842.22821044922, 98613.20767211914, 36351.173583984375, 21284.514129638672, 4893.142395019531, 4694.5904541015625, 7359.8978271484375, 6037.573883056641, 715.3640747070312, 0.0]\n"
     ]
    }
   ],
   "source": [
    "print(L)\n"
   ]
  },
  {
   "cell_type": "code",
   "execution_count": 29,
   "metadata": {},
   "outputs": [
    {
     "data": {
      "image/png": "[encoded data removed]",
      "text/plain": [
       "<Figure size 864x432 with 1 Axes>"
      ]
     },
     "metadata": {
      "needs_background": "light"
     },
     "output_type": "display_data"
    }
   ],
   "source": [
    "plt.figure(figsize=(12,6)) \n",
    "plt.plot([i for i in range(len(L))],L)\n",
    "plt.show()"
   ]
  },
  {
   "cell_type": "code",
   "execution_count": 70,
   "metadata": {},
   "outputs": [
    {
     "data": {
      "text/plain": [
       "18925578032.594055"
      ]
     },
     "execution_count": 70,
     "metadata": {},
     "output_type": "execute_result"
    }
   ],
   "source": [
    "L[1]"
   ]
  },
  {
   "cell_type": "code",
   "execution_count": null,
   "metadata": {},
   "outputs": [],
   "source": []
  }
 ],
 "metadata": {
  "kernelspec": {
   "display_name": "Python 3",
   "language": "python",
   "name": "python3"
  },
  "language_info": {
   "codemirror_mode": {
    "name": "ipython",
    "version": 3
   },
   "file_extension": ".py",
   "mimetype": "text/x-python",
   "name": "python",
   "nbconvert_exporter": "python",
   "pygments_lexer": "ipython3",
   "version": "3.8.3"
  }
 },
 "nbformat": 4,
 "nbformat_minor": 4
}
