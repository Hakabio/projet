{
 "cells": [
  {
   "cell_type": "code",
   "execution_count": 1,
   "metadata": {},
   "outputs": [],
   "source": [
    "import scipy.io\n",
    "import matplotlib.pyplot as plt\n",
    "import numpy as np\n",
    "import pandas as pd\n",
    "from sklearn.model_selection import train_test_split\n",
    "from sklearn.metrics import confusion_matrix\n",
    "import itertools"
   ]
  },
  {
   "cell_type": "code",
   "execution_count": 2,
   "metadata": {},
   "outputs": [],
   "source": [
    "mat = scipy.io.loadmat('mnist-original.mat') # lecture du fichier\n",
    "data = np.transpose(mat['data'])\n",
    "label = np.transpose(mat['label'])\n",
    "X = [data[i].reshape(28,28) for i in range(len(data)) ] "
   ]
  },
  {
   "cell_type": "code",
   "execution_count": 10,
   "metadata": {},
   "outputs": [],
   "source": [
    "def index_chiffre(n, y):  # elle nous renvoie un tableau contenant les indices représentants le chiffre n\n",
    "    return [i for i in range(len(y)) if y[i]==n] \n",
    "\n",
    "def image_moyenne(n, X, y): # cette fonction renvoie la matrice moyenne (centroïde) pour le chiffre n\n",
    "    index = index_chiffre(n, y) \n",
    "    sum_matrice = np.zeros((28,28)) # la matrice qui sera utilisée dans la somme\n",
    "    for i in index:\n",
    "        sum_matrice += X[i] # on somme toutes les matrices représentants le chiffre n\n",
    "    return sum_matrice/len(index)\n",
    "\n",
    "def distance(x,y,k): # fonction qui calcule la distance entre deux matrices selon la norme k\n",
    "    x = x.reshape(len(x)**2) # x est une matrice carré de \"longueur\" n donc sa représentation en vecteur sera de taille n*n\n",
    "    y = y.reshape(len(y)**2)\n",
    "    return np.linalg.norm(x-y,k)\n",
    "\n",
    "def prediction(x,centroide, n, k):# on va chercher le centroïde le plus proche de la matrice X_n où n est l'indice de la matrice\n",
    "    l=[distance(x[n], centroide[i],k) for i in range(10)]\n",
    "    return (float(l.index(min(l))))\n",
    "\n",
    "def calcul_pourcentage(n):# renvoie le pourcentage de reussite n représente l'ordre de la norme qu'on va choisir\n",
    "    prediction_l = [ prediction(X_test,centroide_train, i, n) for i in range(len(X_test)) ]\n",
    "    A =[i for i,j in zip(y_test,prediction_l) if i==j]\n",
    "    return(len(A)*100/len(X_test))"
   ]
  },
  {
   "cell_type": "code",
   "execution_count": 4,
   "metadata": {},
   "outputs": [],
   "source": [
    "X_train, X_test, y_train, y_test = train_test_split(X,label,test_size=0.2,random_state=22)\n",
    "\n",
    "centroide_train = [(image_moyenne(i, X_train, y_train)) for i in range(10)]# on calcul le centroïde pour chaque chiffre i entre 0 et 9 avec X_train et y_train\n"
   ]
  },
  {
   "cell_type": "code",
   "execution_count": 5,
   "metadata": {},
   "outputs": [],
   "source": [
    "def prediction_adapt(x,centroide, n):\n",
    "    l=[distance(x[n], centroide[i],k) for i,k in zip(range(10),(3,1,4,2,2,4,4,2,4,2))]\n",
    "    return (float(l.index(min(l))))\n",
    "\n",
    "def calcul_pourcentage_adapt(x):\n",
    "    prediction_l = [prediction_adapt(x,centroide_train, n) for n in range(len(x))]\n",
    "    A =[i for i,j in zip(y_test[:len(x)],prediction_l) if i==j]\n",
    "    return(len(A)*100/len(x))"
   ]
  },
  {
   "cell_type": "code",
   "execution_count": 6,
   "metadata": {},
   "outputs": [
    {
     "name": "stdout",
     "output_type": "stream",
     "text": [
      "Le pourcentage de précision est 34.25:\n"
     ]
    }
   ],
   "source": [
    "print(\"Le pourcentage de précision est {}:\".format(calcul_pourcentage_adapt(X_test)))"
   ]
  },
  {
   "cell_type": "code",
   "execution_count": 11,
   "metadata": {},
   "outputs": [
    {
     "name": "stdout",
     "output_type": "stream",
     "text": [
      "Le pourcentage de précision est 81.92142857142858:\n"
     ]
    }
   ],
   "source": [
    "print(\"Le pourcentage de précision est {}:\".format(calcul_pourcentage(3)))"
   ]
  },
  {
   "cell_type": "code",
   "execution_count": 12,
   "metadata": {},
   "outputs": [
    {
     "name": "stdout",
     "output_type": "stream",
     "text": [
      "Le pourcentage de précision est 65.12142857142857:\n"
     ]
    }
   ],
   "source": [
    "print(\"Le pourcentage de précision est {}:\".format(calcul_pourcentage(1)))"
   ]
  }
 ],
 "metadata": {
  "kernelspec": {
   "display_name": "Python 3",
   "language": "python",
   "name": "python3"
  },
  "language_info": {
   "codemirror_mode": {
    "name": "ipython",
    "version": 3
   },
   "file_extension": ".py",
   "mimetype": "text/x-python",
   "name": "python",
   "nbconvert_exporter": "python",
   "pygments_lexer": "ipython3",
   "version": "3.7.6"
  }
 },
 "nbformat": 4,
 "nbformat_minor": 4
}
