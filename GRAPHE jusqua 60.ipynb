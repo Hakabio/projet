{
 "cells": [
  {
   "cell_type": "code",
   "execution_count": 32,
   "metadata": {},
   "outputs": [
    {
     "name": "stdout",
     "output_type": "stream",
     "text": [
      "0.21414756774902344\n"
     ]
    }
   ],
   "source": [
    "import scipy.io\n",
    "import matplotlib.pyplot as plt\n",
    "import numpy as np\n",
    "import pandas as pd\n",
    "from sklearn.model_selection import train_test_split\n",
    "from sklearn.metrics import confusion_matrix\n",
    "import itertools\n",
    "import random as rd\n",
    "from sklearn import neighbors\n",
    "import sklearn\n",
    "import time\n",
    "from sklearn.cluster import KMeans\n",
    "\n",
    "start=time.time()\n",
    "\n",
    "mat = scipy.io.loadmat('mnist-original.mat') # lecture du fichier\n",
    "data = np.transpose(mat['data'])\n",
    "label = np.transpose(mat['label'])\n",
    "X = [data[i].reshape(28,28) for i in range(len(data)) ] # on créé une nouvelle liste qui va contenir nos matrices 28x28\n",
    "\n",
    "def index_chiffre(n, y):  # elle nous renvoie un tableau contenant les indices représentants le chiffre n\n",
    "    return [i for i in range(len(y)) if y[i]==n] \n",
    "\n",
    "def image_moyenne(n, X, y): # cette fonction renvoie la matrice moyenne (centroïde) pour le chiffre n\n",
    "    index = index_chiffre(n, y) \n",
    "    sum_matrice = np.zeros((28,28)) # la matrice qui sera utilisée dans la somme\n",
    "    for i in index:\n",
    "        sum_matrice += X[i] # on somme toutes les matrices représentants le chiffre n\n",
    "    return sum_matrice/len(index)\n",
    "\n",
    "def distance(x,y,k): # fonction qui calcule la distance entre deux matrices \n",
    "    x = x.reshape(len(x)**2) # x est une matrice carré de \"longueur\" n donc sa représentation en vecteur sera de taille n*n\n",
    "    y = y.reshape(len(y)**2)\n",
    "    return np.linalg.norm(x-y,k)\n",
    "\n",
    "def prediction(x,centroide, n, k,h):# on va chercher le centroïde le plus proche de la matrice X_n où n est l'indice de la matrice\n",
    "    l=[distance(x[n], centroide[i],k) for i in range(10*h)]\n",
    "    k= l.index(min(l))\n",
    "    z=k%h\n",
    "    return float((k-z)/h)\n",
    "\n",
    "def calcul_pourcentage(n,h):# renvoie le pourcentage de reussite n représente l'ordre de la norme qu'on va choisir\n",
    "    prediction_l = [ prediction(X_test,centroide_train, i, n,h) for i in range(len(X_test)) ]\n",
    "    A =[i for i,j in zip(y_test,prediction_l) if i==j]\n",
    "    return(len(A)*100/len(X_test))\n",
    "\n",
    "\n",
    "X_train, X_test, y_train, y_test = train_test_split(X,label,test_size=0.2,random_state=59)\n",
    "\n",
    "prediction(X_test,centroide_train,1,3,i)\n",
    "\n",
    "end=time.time()\n",
    "print(end-start)"
   ]
  },
  {
   "cell_type": "code",
   "execution_count": 41,
   "metadata": {},
   "outputs": [
    {
     "data": {
      "text/plain": [
       "(70000, 784)"
      ]
     },
     "execution_count": 41,
     "metadata": {},
     "output_type": "execute_result"
    }
   ],
   "source": [
    "np.shape(data)"
   ]
  },
  {
   "cell_type": "code",
   "execution_count": 49,
   "metadata": {},
   "outputs": [],
   "source": [
    "Presque_Nouveau_X = [np.reshape(X_train[i],(784,)) for i in range(len(X_train))] \n",
    "Nouveau_X = np.array(Presque_Nouveau_X)"
   ]
  },
  {
   "cell_type": "code",
   "execution_count": 50,
   "metadata": {},
   "outputs": [
    {
     "data": {
      "text/plain": [
       "(56000, 784)"
      ]
     },
     "execution_count": 50,
     "metadata": {},
     "output_type": "execute_result"
    }
   ],
   "source": [
    "type(Nouveau_X)\n",
    "np.shape(Nouveau_X)"
   ]
  },
  {
   "cell_type": "code",
   "execution_count": 51,
   "metadata": {},
   "outputs": [],
   "source": [
    "def centro(nombre):\n",
    "    chiffres = range(10)\n",
    "    nb_clusters = nombre\n",
    "    centre_=[]\n",
    "    for j,t in zip(range(len(chiffres)),chiffres):\n",
    "        idx = np.where((y_train == t))[0]\n",
    "        Xk = np.array(Nouveau_X)[idx]    \n",
    "        Ykk = np.array(y_train)[idx]\n",
    "        Yk = np.reshape(Ykk, (len(Ykk),))\n",
    "        kmeans = sklearn.cluster.KMeans(n_clusters=nb_clusters).fit(Xk,Yk)\n",
    "        centroidk = kmeans.cluster_centers_\n",
    "        for i in range(nb_clusters):\n",
    "            centre_.append(centroidk[i])\n",
    "    return centre_"
   ]
  },
  {
   "cell_type": "code",
   "execution_count": 52,
   "metadata": {
    "scrolled": true
   },
   "outputs": [],
   "source": [
    "nombre=61\n",
    "opo=[]\n",
    "for i in range(2,nombre):\n",
    "    centr=centro(i)\n",
    "    centroide_train = [centr[j].reshape(28,28) for j in range(10*i)]\n",
    "    opo.append(calcul_pourcentage(3,i))"
   ]
  },
  {
   "cell_type": "code",
   "execution_count": 56,
   "metadata": {},
   "outputs": [
    {
     "data": {
      "image/png": "[encoded data removed]",
      "text/plain": [
       "<Figure size 720x432 with 1 Axes>"
      ]
     },
     "metadata": {
      "needs_background": "light"
     },
     "output_type": "display_data"
    }
   ],
   "source": [
    "fig, ax = plt.subplots(figsize=(10,6))\n",
    "plt.plot([i+2 for i in range(len(opo))],opo, '-o', c='black')\n",
    "ax.axhline(y=94.92, ls='--' ,c='red')\n",
    "ax.set_xlabel('Nombre de centroids utilisés pour un chiffre ')\n",
    "ax.set_xticks(list(range(0,nombre,5)))\n",
    "ax.yaxis.set_ticks_position('left')\n",
    "ax.set_ylabel('Pourcentage de précision')\n",
    "ax.grid()\n",
    "plt.show()"
   ]
  },
  {
   "cell_type": "markdown",
   "metadata": {},
   "source": [
    "Pour 60 centroïdes :"
   ]
  },
  {
   "cell_type": "code",
   "execution_count": 74,
   "metadata": {},
   "outputs": [
    {
     "name": "stdout",
     "output_type": "stream",
     "text": [
      "2.0\n",
      "0.08200788497924805\n"
     ]
    },
    {
     "data": {
      "text/plain": [
       "<matplotlib.image.AxesImage at 0x2b54a711788>"
      ]
     },
     "execution_count": 74,
     "metadata": {},
     "output_type": "execute_result"
    },
    {
     "data": {
      "image/png": "[encoded data removed]",
      "text/plain": [
       "<Figure size 432x288 with 1 Axes>"
      ]
     },
     "metadata": {
      "needs_background": "light"
     },
     "output_type": "display_data"
    }
   ],
   "source": [
    "start = time.time()\n",
    "print(prediction(X_test,centroide_train,700,3,i))\n",
    "end = time.time()\n",
    "print(end-start)\n",
    "plt.imshow(X_test[700],cmap = 'gray')"
   ]
  },
  {
   "cell_type": "markdown",
   "metadata": {},
   "source": [
    "Pourcentage pour 60 centroides = 95,07%"
   ]
  },
  {
   "cell_type": "markdown",
   "metadata": {},
   "source": [
    "Meilleur pourcentage atteint pour 58 centroides = 95,64"
   ]
  },
  {
   "cell_type": "markdown",
   "metadata": {},
   "source": [
    "temps pris pour 60 centroides pour une prédiciton = entre 0.07 et 0.09 secondes"
   ]
  }
 ],
 "metadata": {
  "kernelspec": {
   "display_name": "Python 3",
   "language": "python",
   "name": "python3"
  },
  "language_info": {
   "codemirror_mode": {
    "name": "ipython",
    "version": 3
   },
   "file_extension": ".py",
   "mimetype": "text/x-python",
   "name": "python",
   "nbconvert_exporter": "python",
   "pygments_lexer": "ipython3",
   "version": "3.7.4"
  }
 },
 "nbformat": 4,
 "nbformat_minor": 2
}
