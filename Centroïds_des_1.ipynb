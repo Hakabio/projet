{
 "cells": [
  {
   "cell_type": "markdown",
   "metadata": {},
   "source": [
    "### Ajout de centroïds au sein d'une même classe pour raffiner la classification. "
   ]
  },
  {
   "cell_type": "markdown",
   "metadata": {},
   "source": [
    "_On cherche à rendre l'algorithme de classification plus performant. On a constaté que pour certains chiffres, différents types d'écritures reviennent. Dès lors, il peut être pertinent d'exhiber ces différentes typographies, pour permettre à l'algorithme d'avoir une vision plus raffinée des différentes classes auxquelles chaque image peut appartenir._\n",
    "\n",
    "_Prenons le chiffre \"1\": on observe que s'il s'écrit généralement comme une barre verticale, il peut également s'écrire de façon très ou légèrement inclinée vers la droite. Mais alors, le classifieur peut aisément le confondre avec un 7 ou un 2. C'est la raison pour laquelle on a décidé de faire trois centroïds différents du chiffre 1._"
   ]
  },
  {
   "cell_type": "code",
   "execution_count": 1,
   "metadata": {},
   "outputs": [],
   "source": [
    "import scipy.io\n",
    "import matplotlib.pyplot as plt\n",
    "import numpy as np\n",
    "import pandas as pd\n",
    "from sklearn.model_selection import train_test_split\n",
    "from sklearn import neighbors \n",
    "import sklearn\n",
    "import itertools"
   ]
  },
  {
   "cell_type": "code",
   "execution_count": 2,
   "metadata": {},
   "outputs": [],
   "source": [
    "mat = scipy.io.loadmat('mnist-original.mat') # lecture du fichier\n",
    "data = np.transpose(mat['data'])\n",
    "label = np.transpose(mat['label'])\n",
    "X = [data[i].reshape(28,28) for i in range(len(data)) ] # on créé une nouvelle liste qui va contenir nos matrices 28x28"
   ]
  },
  {
   "cell_type": "code",
   "execution_count": 3,
   "metadata": {},
   "outputs": [],
   "source": [
    "X_train, X_test, y_train, y_test = train_test_split(X,label,test_size=0.2,random_state=22)"
   ]
  },
  {
   "cell_type": "code",
   "execution_count": 4,
   "metadata": {},
   "outputs": [],
   "source": [
    "idx = np.where((y_train == 1))[0]\n",
    "x_train = [np.reshape(X_train[i], (1,784)) for i in range(len(X_train))]\n",
    "new_x_train = np.array([np.squeeze(x_train[i], axis=0) for i in range(len(x_train))])\n",
    "\n",
    "X1 = np.array(new_x_train)[idx]\n",
    "Y11 = np.array(y_train)[idx]\n",
    "Y1 = np.reshape(Y11, (len(Y11),))"
   ]
  },
  {
   "cell_type": "code",
   "execution_count": 5,
   "metadata": {},
   "outputs": [],
   "source": [
    "from sklearn.cluster import KMeans\n",
    "\n",
    "kmeans = sklearn.cluster.KMeans(n_clusters=3).fit(X1,Y1)"
   ]
  },
  {
   "cell_type": "code",
   "execution_count": 6,
   "metadata": {},
   "outputs": [],
   "source": [
    "centroid1 = kmeans.cluster_centers_"
   ]
  },
  {
   "cell_type": "code",
   "execution_count": 8,
   "metadata": {},
   "outputs": [
    {
     "data": {
      "image/png": "[encoded data removed]",
      "text/plain": [
       "<Figure size 1440x216 with 3 Axes>"
      ]
     },
     "metadata": {
      "needs_background": "light"
     },
     "output_type": "display_data"
    }
   ],
   "source": [
    "fig, ax = plt.subplots(1,3,figsize=(20,3)) # affichage des centroïdes du chiffre 1\n",
    "for i in range(3):\n",
    "    ax[i].imshow(np.reshape(centroid1[i], (28,28)),cmap='gray')\n",
    "    ax[i].set_title(\"moyenne numéro\"+str(i))\n",
    "plt.show()"
   ]
  }
 ],
 "metadata": {
  "kernelspec": {
   "display_name": "Python 3",
   "language": "python",
   "name": "python3"
  },
  "language_info": {
   "codemirror_mode": {
    "name": "ipython",
    "version": 3
   },
   "file_extension": ".py",
   "mimetype": "text/x-python",
   "name": "python",
   "nbconvert_exporter": "python",
   "pygments_lexer": "ipython3",
   "version": "3.7.6"
  }
 },
 "nbformat": 4,
 "nbformat_minor": 4
}
